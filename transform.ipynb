{
 "cells": [
  {
   "attachments": {},
   "cell_type": "markdown",
   "metadata": {},
   "source": [
    "## 1. Importing libraries"
   ]
  },
  {
   "cell_type": "code",
   "execution_count": 321,
   "metadata": {},
   "outputs": [],
   "source": [
    "# data\n",
    "import pandas as pd\n",
    "import numpy as np\n",
    "\n",
    "# drawing\n",
    "import matplotlib.pyplot as plt\n",
    "import seaborn as sns\n",
    "\n",
    "# predictions\n",
    "from sklearn.preprocessing import LabelEncoder\n",
    "from sklearn.preprocessing import MinMaxScaler\n",
    "from sklearn.linear_model import LinearRegression"
   ]
  },
  {
   "attachments": {},
   "cell_type": "markdown",
   "metadata": {},
   "source": [
    "## 2. Transport Data\n"
   ]
  },
  {
   "attachments": {},
   "cell_type": "markdown",
   "metadata": {},
   "source": [
    "#### 2.1 Loading"
   ]
  },
  {
   "cell_type": "code",
   "execution_count": 322,
   "metadata": {},
   "outputs": [],
   "source": [
    "transport_raw = pd.read_table(\"tran_hv_pstra.tsv\") # transport"
   ]
  },
  {
   "attachments": {},
   "cell_type": "markdown",
   "metadata": {},
   "source": [
    "#### 2.2 Cleaning"
   ]
  },
  {
   "cell_type": "code",
   "execution_count": 323,
   "metadata": {},
   "outputs": [
    {
     "data": {
      "text/html": [
       "<div>\n",
       "<style scoped>\n",
       "    .dataframe tbody tr th:only-of-type {\n",
       "        vertical-align: middle;\n",
       "    }\n",
       "\n",
       "    .dataframe tbody tr th {\n",
       "        vertical-align: top;\n",
       "    }\n",
       "\n",
       "    .dataframe thead th {\n",
       "        text-align: right;\n",
       "    }\n",
       "</style>\n",
       "<table border=\"1\" class=\"dataframe\">\n",
       "  <thead>\n",
       "    <tr style=\"text-align: right;\">\n",
       "      <th></th>\n",
       "      <th>country</th>\n",
       "      <th>transport_1990</th>\n",
       "      <th>transport_1991</th>\n",
       "      <th>transport_1992</th>\n",
       "      <th>transport_1993</th>\n",
       "      <th>transport_1994</th>\n",
       "      <th>transport_1995</th>\n",
       "      <th>transport_1996</th>\n",
       "      <th>transport_1997</th>\n",
       "      <th>transport_1998</th>\n",
       "      <th>...</th>\n",
       "      <th>transport_2012</th>\n",
       "      <th>transport_2013</th>\n",
       "      <th>transport_2014</th>\n",
       "      <th>transport_2015</th>\n",
       "      <th>transport_2016</th>\n",
       "      <th>transport_2017</th>\n",
       "      <th>transport_2018</th>\n",
       "      <th>transport_2019</th>\n",
       "      <th>transport_2020</th>\n",
       "      <th>transport_2021</th>\n",
       "    </tr>\n",
       "  </thead>\n",
       "  <tbody>\n",
       "    <tr>\n",
       "      <th>0</th>\n",
       "      <td>AT</td>\n",
       "      <td>NaN</td>\n",
       "      <td>NaN</td>\n",
       "      <td>NaN</td>\n",
       "      <td>NaN</td>\n",
       "      <td>NaN</td>\n",
       "      <td>114.1</td>\n",
       "      <td>112.8</td>\n",
       "      <td>109.6</td>\n",
       "      <td>107.0</td>\n",
       "      <td>...</td>\n",
       "      <td>96.1</td>\n",
       "      <td>97.4</td>\n",
       "      <td>99.0</td>\n",
       "      <td>100.0</td>\n",
       "      <td>100.8</td>\n",
       "      <td>100.2</td>\n",
       "      <td>90.7</td>\n",
       "      <td>87.5</td>\n",
       "      <td>78.6</td>\n",
       "      <td>80.0</td>\n",
       "    </tr>\n",
       "    <tr>\n",
       "      <th>1</th>\n",
       "      <td>BE</td>\n",
       "      <td>NaN</td>\n",
       "      <td>NaN</td>\n",
       "      <td>NaN</td>\n",
       "      <td>NaN</td>\n",
       "      <td>NaN</td>\n",
       "      <td>128.9</td>\n",
       "      <td>126.9</td>\n",
       "      <td>124.4</td>\n",
       "      <td>124.6</td>\n",
       "      <td>...</td>\n",
       "      <td>114.0</td>\n",
       "      <td>111.5</td>\n",
       "      <td>103.7</td>\n",
       "      <td>100.0</td>\n",
       "      <td>97.4</td>\n",
       "      <td>96.6</td>\n",
       "      <td>95.5</td>\n",
       "      <td>93.8</td>\n",
       "      <td>80.9</td>\n",
       "      <td>79.9</td>\n",
       "    </tr>\n",
       "    <tr>\n",
       "      <th>2</th>\n",
       "      <td>BG</td>\n",
       "      <td>NaN</td>\n",
       "      <td>NaN</td>\n",
       "      <td>NaN</td>\n",
       "      <td>NaN</td>\n",
       "      <td>NaN</td>\n",
       "      <td>92.2</td>\n",
       "      <td>82.6</td>\n",
       "      <td>95.2</td>\n",
       "      <td>91.0</td>\n",
       "      <td>...</td>\n",
       "      <td>91.9</td>\n",
       "      <td>94.4</td>\n",
       "      <td>99.1</td>\n",
       "      <td>100.0</td>\n",
       "      <td>95.9</td>\n",
       "      <td>93.9</td>\n",
       "      <td>89.7</td>\n",
       "      <td>88.7</td>\n",
       "      <td>75.4</td>\n",
       "      <td>72.3</td>\n",
       "    </tr>\n",
       "    <tr>\n",
       "      <th>3</th>\n",
       "      <td>CH</td>\n",
       "      <td>128.4</td>\n",
       "      <td>133.9</td>\n",
       "      <td>131.0</td>\n",
       "      <td>128.3</td>\n",
       "      <td>123.0</td>\n",
       "      <td>120.8</td>\n",
       "      <td>122.0</td>\n",
       "      <td>120.4</td>\n",
       "      <td>120.8</td>\n",
       "      <td>...</td>\n",
       "      <td>102.9</td>\n",
       "      <td>101.9</td>\n",
       "      <td>100.7</td>\n",
       "      <td>100.0</td>\n",
       "      <td>99.8</td>\n",
       "      <td>99.6</td>\n",
       "      <td>97.1</td>\n",
       "      <td>97.5</td>\n",
       "      <td>86.0</td>\n",
       "      <td>86.7</td>\n",
       "    </tr>\n",
       "    <tr>\n",
       "      <th>4</th>\n",
       "      <td>CY</td>\n",
       "      <td>NaN</td>\n",
       "      <td>NaN</td>\n",
       "      <td>NaN</td>\n",
       "      <td>NaN</td>\n",
       "      <td>NaN</td>\n",
       "      <td>90.7</td>\n",
       "      <td>92.5</td>\n",
       "      <td>92.3</td>\n",
       "      <td>89.0</td>\n",
       "      <td>...</td>\n",
       "      <td>91.1</td>\n",
       "      <td>96.8</td>\n",
       "      <td>100.4</td>\n",
       "      <td>100.0</td>\n",
       "      <td>97.9</td>\n",
       "      <td>94.2</td>\n",
       "      <td>92.4</td>\n",
       "      <td>90.1</td>\n",
       "      <td>75.5</td>\n",
       "      <td>76.3</td>\n",
       "    </tr>\n",
       "  </tbody>\n",
       "</table>\n",
       "<p>5 rows × 33 columns</p>\n",
       "</div>"
      ],
      "text/plain": [
       "  country  transport_1990  transport_1991  transport_1992  transport_1993  \\\n",
       "0      AT             NaN             NaN             NaN             NaN   \n",
       "1      BE             NaN             NaN             NaN             NaN   \n",
       "2      BG             NaN             NaN             NaN             NaN   \n",
       "3      CH           128.4           133.9           131.0           128.3   \n",
       "4      CY             NaN             NaN             NaN             NaN   \n",
       "\n",
       "   transport_1994  transport_1995  transport_1996  transport_1997  \\\n",
       "0             NaN           114.1           112.8           109.6   \n",
       "1             NaN           128.9           126.9           124.4   \n",
       "2             NaN            92.2            82.6            95.2   \n",
       "3           123.0           120.8           122.0           120.4   \n",
       "4             NaN            90.7            92.5            92.3   \n",
       "\n",
       "   transport_1998  ...  transport_2012  transport_2013  transport_2014  \\\n",
       "0           107.0  ...            96.1            97.4            99.0   \n",
       "1           124.6  ...           114.0           111.5           103.7   \n",
       "2            91.0  ...            91.9            94.4            99.1   \n",
       "3           120.8  ...           102.9           101.9           100.7   \n",
       "4            89.0  ...            91.1            96.8           100.4   \n",
       "\n",
       "   transport_2015  transport_2016  transport_2017  transport_2018  \\\n",
       "0           100.0           100.8           100.2            90.7   \n",
       "1           100.0            97.4            96.6            95.5   \n",
       "2           100.0            95.9            93.9            89.7   \n",
       "3           100.0            99.8            99.6            97.1   \n",
       "4           100.0            97.9            94.2            92.4   \n",
       "\n",
       "   transport_2019  transport_2020  transport_2021  \n",
       "0            87.5            78.6            80.0  \n",
       "1            93.8            80.9            79.9  \n",
       "2            88.7            75.4            72.3  \n",
       "3            97.5            86.0            86.7  \n",
       "4            90.1            75.5            76.3  \n",
       "\n",
       "[5 rows x 33 columns]"
      ]
     },
     "execution_count": 323,
     "metadata": {},
     "output_type": "execute_result"
    }
   ],
   "source": [
    "# copy original\n",
    "transport_clean = pd.DataFrame(transport_raw)\n",
    "\n",
    "# extract country data\n",
    "transport_clean[['unit', 'country']] = transport_raw['unit,geo\\\\time'].str.split(',', expand=True)\n",
    "transport_clean = transport_clean.drop(['unit,geo\\\\time'], axis=1)\n",
    "\n",
    "# extract the names of year columns\n",
    "transport_year_col_names = transport_clean.columns.tolist()\n",
    "transport_year_col_names.remove('country')\n",
    "transport_year_col_names.remove('unit')\n",
    "\n",
    "# extract the percent number from data\n",
    "transport_clean['2015_percent'] = transport_clean['2015 '].astype(str)\n",
    "transport_clean = transport_clean.drop('2015 ', axis=1)\n",
    "transport_year_col_names.remove('2015 ')\n",
    "\n",
    "for col in transport_year_col_names:\n",
    "    newcol = col.rstrip()\n",
    "    split = transport_clean[col].str.split(' ', expand=True)\n",
    "    transport_clean[[newcol+'_percent', newcol+'_letter']] = split\n",
    "    transport_clean = transport_clean.drop(col, axis=1)\n",
    "\n",
    "# select column names again\n",
    "transport_year_col_names = [col.rstrip() for col in transport_year_col_names]\n",
    "transport_year_col_names.append('2015')\n",
    "transport_year_col_names = sorted(transport_year_col_names)\n",
    "\n",
    "# sort the year columns\n",
    "transport_clean = transport_clean.reindex(sorted(transport_clean.columns), axis=1)\n",
    "\n",
    "# drop the letter columns (unused columns)\n",
    "transport_clean = transport_clean.loc[:, ~transport_clean.columns.str.endswith('_letter')]\n",
    "\n",
    "# remove percent postfix because letters were not used\n",
    "transport_clean = transport_clean.rename(columns=lambda x: x.replace('_percent', '') if '_percent' in x else x)\n",
    "\n",
    "# add transport_ prefix\n",
    "transport_clean = transport_clean.rename(columns={col: f'transport_{col}' for col in transport_clean.columns if col not in ['country', 'unit']})\n",
    "\n",
    "# remove unit column (all are the same)\n",
    "transport_clean = transport_clean.drop('unit', axis=1)\n",
    "\n",
    "# put country first (cosmetic)\n",
    "last_column = transport_clean.pop(transport_clean.columns[-1])\n",
    "transport_clean.insert(0, last_column.name, last_column)\n",
    "\n",
    "# make year columns float\n",
    "transport_clean[['transport_' + y for y in transport_year_col_names]] = transport_clean[['transport_' + y for y in transport_year_col_names]].apply(lambda x: pd.to_numeric(x, errors='coerce'))\n",
    "\n",
    "# show result\n",
    "transport_clean.head()"
   ]
  },
  {
   "attachments": {},
   "cell_type": "markdown",
   "metadata": {},
   "source": [
    "## 3. Pollution Data"
   ]
  },
  {
   "attachments": {},
   "cell_type": "markdown",
   "metadata": {},
   "source": [
    "#### 3.1 Loading"
   ]
  },
  {
   "cell_type": "code",
   "execution_count": 324,
   "metadata": {},
   "outputs": [],
   "source": [
    "pollution_raw = pd.read_table(\"urb_percep.tsv\") # air pollution"
   ]
  },
  {
   "attachments": {},
   "cell_type": "markdown",
   "metadata": {},
   "source": [
    "#### 3.2 Cleaning"
   ]
  },
  {
   "cell_type": "code",
   "execution_count": 325,
   "metadata": {},
   "outputs": [
    {
     "data": {
      "text/html": [
       "<div>\n",
       "<style scoped>\n",
       "    .dataframe tbody tr th:only-of-type {\n",
       "        vertical-align: middle;\n",
       "    }\n",
       "\n",
       "    .dataframe tbody tr th {\n",
       "        vertical-align: top;\n",
       "    }\n",
       "\n",
       "    .dataframe thead th {\n",
       "        text-align: right;\n",
       "    }\n",
       "</style>\n",
       "<table border=\"1\" class=\"dataframe\">\n",
       "  <thead>\n",
       "    <tr style=\"text-align: right;\">\n",
       "      <th></th>\n",
       "      <th>pollution_2004</th>\n",
       "      <th>pollution_2006</th>\n",
       "      <th>pollution_2009</th>\n",
       "      <th>pollution_2012</th>\n",
       "      <th>pollution_2015</th>\n",
       "      <th>pollution_2019</th>\n",
       "      <th>city</th>\n",
       "      <th>country</th>\n",
       "    </tr>\n",
       "  </thead>\n",
       "  <tbody>\n",
       "    <tr>\n",
       "      <th>0</th>\n",
       "      <td>48.0</td>\n",
       "      <td>63.4</td>\n",
       "      <td>53.1</td>\n",
       "      <td>60.0</td>\n",
       "      <td>72.0</td>\n",
       "      <td>70.0</td>\n",
       "      <td>AT001C</td>\n",
       "      <td>AT</td>\n",
       "    </tr>\n",
       "    <tr>\n",
       "      <th>2</th>\n",
       "      <td>22.0</td>\n",
       "      <td>24.7</td>\n",
       "      <td>17.8</td>\n",
       "      <td>22.0</td>\n",
       "      <td>19.0</td>\n",
       "      <td>18.5</td>\n",
       "      <td>BE001C</td>\n",
       "      <td>BE</td>\n",
       "    </tr>\n",
       "    <tr>\n",
       "      <th>3</th>\n",
       "      <td>32.0</td>\n",
       "      <td>38.8</td>\n",
       "      <td>38.3</td>\n",
       "      <td>21.0</td>\n",
       "      <td>24.0</td>\n",
       "      <td>23.4</td>\n",
       "      <td>BE002C</td>\n",
       "      <td>BE</td>\n",
       "    </tr>\n",
       "    <tr>\n",
       "      <th>4</th>\n",
       "      <td>25.0</td>\n",
       "      <td>31.5</td>\n",
       "      <td>16.9</td>\n",
       "      <td>18.0</td>\n",
       "      <td>14.0</td>\n",
       "      <td>14.7</td>\n",
       "      <td>BE005C</td>\n",
       "      <td>BE</td>\n",
       "    </tr>\n",
       "    <tr>\n",
       "      <th>11</th>\n",
       "      <td>31.0</td>\n",
       "      <td>46.2</td>\n",
       "      <td>25.5</td>\n",
       "      <td>38.0</td>\n",
       "      <td>46.0</td>\n",
       "      <td>46.4</td>\n",
       "      <td>DE001C</td>\n",
       "      <td>DE</td>\n",
       "    </tr>\n",
       "  </tbody>\n",
       "</table>\n",
       "</div>"
      ],
      "text/plain": [
       "    pollution_2004  pollution_2006  pollution_2009  pollution_2012  \\\n",
       "0             48.0            63.4            53.1            60.0   \n",
       "2             22.0            24.7            17.8            22.0   \n",
       "3             32.0            38.8            38.3            21.0   \n",
       "4             25.0            31.5            16.9            18.0   \n",
       "11            31.0            46.2            25.5            38.0   \n",
       "\n",
       "    pollution_2015  pollution_2019    city country  \n",
       "0             72.0            70.0  AT001C      AT  \n",
       "2             19.0            18.5  BE001C      BE  \n",
       "3             24.0            23.4  BE002C      BE  \n",
       "4             14.0            14.7  BE005C      BE  \n",
       "11            46.0            46.4  DE001C      DE  "
      ]
     },
     "execution_count": 325,
     "metadata": {},
     "output_type": "execute_result"
    }
   ],
   "source": [
    "# copy original\n",
    "pollution_clean = pd.DataFrame(pollution_raw)\n",
    "\n",
    "# extract city data\n",
    "pollution_clean[['indic_ur', 'unit', 'city']] = pollution_clean['indic_ur,unit,cities\\\\time'].str.split(',', expand=True)\n",
    "pollution_clean = pollution_clean.drop(['indic_ur,unit,cities\\\\time'], axis=1)\n",
    "\n",
    "# drop unused\n",
    "pollution_clean = pollution_clean.drop(['unit', 'indic_ur'], axis=1)\n",
    "\n",
    "# extract country\n",
    "pollution_clean['country'] = pollution_clean['city'].str[0:2]\n",
    "\n",
    "# sort the year columns\n",
    "pollution_clean = pollution_clean.reindex(sorted(pollution_clean.columns), axis=1)\n",
    "\n",
    "# remove spaces from year column names\n",
    "pollution_clean.columns = [col.rstrip() for col in pollution_clean.columns]\n",
    "\n",
    "# get year column names\n",
    "pollution_year_col_names = pollution_clean.columns.tolist()\n",
    "pollution_year_col_names.remove('city')\n",
    "pollution_year_col_names.remove('country')\n",
    "\n",
    "# change year columns to float\n",
    "pollution_clean[pollution_year_col_names] = pollution_clean[pollution_year_col_names].apply(lambda x: pd.to_numeric(x, errors='coerce'))\n",
    "\n",
    "# drop rows with NaN\n",
    "pollution_clean = pollution_clean.dropna(subset=pollution_year_col_names)\n",
    "\n",
    "# put _pollution prefix\n",
    "pollution_clean = pollution_clean.rename(columns={col: f'pollution_{col}' for col in pollution_clean.columns if col not in ['country', 'city']})\n",
    "\n",
    "# show result\n",
    "pollution_clean.head()"
   ]
  },
  {
   "attachments": {},
   "cell_type": "markdown",
   "metadata": {},
   "source": [
    "## 4. Joining tables"
   ]
  },
  {
   "cell_type": "code",
   "execution_count": 326,
   "metadata": {},
   "outputs": [
    {
     "name": "stdout",
     "output_type": "stream",
     "text": [
      "   country  transport_2004  transport_2006  transport_2009  transport_2012  \\\n",
      "0       AT           100.2            96.4            97.5            96.1   \n",
      "1       BE           115.8           116.7           117.3           114.0   \n",
      "2       BE           115.8           116.7           117.3           114.0   \n",
      "3       BE           115.8           116.7           117.3           114.0   \n",
      "4       DE           106.3           101.3           104.9           101.1   \n",
      "5       DE           106.3           101.3           104.9           101.1   \n",
      "6       DE           106.3           101.3           104.9           101.1   \n",
      "7       DE           106.3           101.3           104.9           101.1   \n",
      "8       DK           100.4           111.8           100.5            98.7   \n",
      "9       EL            69.1            71.5            79.1            96.3   \n",
      "10      EL            69.1            71.5            79.1            96.3   \n",
      "11      ES           112.5           106.3           110.5           105.9   \n",
      "12      ES           112.5           106.3           110.5           105.9   \n",
      "13      ES           112.5           106.3           110.5           105.9   \n",
      "14      FR           103.3            98.4           109.4           106.6   \n",
      "15      FR           103.3            98.4           109.4           106.6   \n",
      "16      FR           103.3            98.4           109.4           106.6   \n",
      "17      IE           124.0           119.9           133.7           123.4   \n",
      "18      IT           101.3            93.4           102.9            87.3   \n",
      "19      IT           101.3            93.4           102.9            87.3   \n",
      "20      IT           101.3            93.4           102.9            87.3   \n",
      "21      LU           105.5           103.8           103.7            99.4   \n",
      "22      PT           103.4            99.3           100.0            98.3   \n",
      "23      PT           103.4            99.3           100.0            98.3   \n",
      "24      SE           106.5            99.7           104.6           104.7   \n",
      "25      UK           117.3           110.5           112.6           106.1   \n",
      "\n",
      "    transport_2015  transport_2019  transport_2021  pollution_2004  \\\n",
      "0            100.0            87.5            80.0            48.0   \n",
      "1            100.0            93.8            79.9            22.0   \n",
      "2            100.0            93.8            79.9            32.0   \n",
      "3            100.0            93.8            79.9            25.0   \n",
      "4            100.0            91.1            76.1            31.0   \n",
      "5            100.0            91.1            76.1            35.0   \n",
      "6            100.0            91.1            76.1            31.0   \n",
      "7            100.0            91.1            76.1            45.0   \n",
      "8            100.0            98.2            85.9            15.0   \n",
      "9            100.0           100.9            90.3            29.0   \n",
      "10           100.0           100.9            90.3            29.0   \n",
      "11           100.0            93.6            79.7            14.0   \n",
      "12           100.0            93.6            79.7            13.0   \n",
      "13           100.0            93.6            79.7             6.0   \n",
      "14           100.0            94.6            85.8            21.0   \n",
      "15           100.0            94.6            85.8            22.0   \n",
      "16           100.0            94.6            85.8            54.0   \n",
      "17           100.0            90.5            65.7            24.0   \n",
      "18           100.0           102.9            74.1             5.0   \n",
      "19           100.0           102.9            74.1             6.0   \n",
      "20           100.0           102.9            74.1             3.0   \n",
      "21           100.0            99.6            86.3            43.0   \n",
      "22           100.0           104.8            97.9             7.0   \n",
      "23           100.0           104.8            97.9            11.0   \n",
      "24           100.0            82.2            70.0            33.0   \n",
      "25           100.0           104.3             NaN            31.0   \n",
      "\n",
      "    pollution_2006  pollution_2009  pollution_2012  pollution_2015  \\\n",
      "0             63.4            53.1            60.0            72.0   \n",
      "1             24.7            17.8            22.0            19.0   \n",
      "2             38.8            38.3            21.0            24.0   \n",
      "3             31.5            16.9            18.0            14.0   \n",
      "4             46.2            25.5            38.0            46.0   \n",
      "5             51.7            41.7            48.0            51.0   \n",
      "6             41.4            38.1            39.0            39.0   \n",
      "7             44.3            34.0            44.0            44.0   \n",
      "8             20.8            27.1            38.0            31.0   \n",
      "9             33.3            18.5            19.0            27.0   \n",
      "10            29.3            14.3            20.0            19.0   \n",
      "11            17.0            22.4            26.0            26.0   \n",
      "12            18.4            14.1            21.0            24.0   \n",
      "13            21.5            13.8            25.0            26.0   \n",
      "14            25.4            21.7            25.0            24.0   \n",
      "15            10.9            20.3            19.0            20.0   \n",
      "16            41.4            43.4            42.0            38.0   \n",
      "17            35.1            24.2            31.0            37.0   \n",
      "18             5.7             3.3             4.0             4.0   \n",
      "19             5.6             2.3             4.0             5.0   \n",
      "20            14.0             8.9            18.0            18.0   \n",
      "21            33.9            34.5            41.0            36.0   \n",
      "22            16.7            11.7            13.0            11.0   \n",
      "23            13.7            11.7             7.0            10.0   \n",
      "24            27.2            37.4            31.0            31.0   \n",
      "25            39.2            30.5            39.0            39.0   \n",
      "\n",
      "    pollution_2019    city  \n",
      "0             70.0  AT001C  \n",
      "1             18.5  BE001C  \n",
      "2             23.4  BE002C  \n",
      "3             14.7  BE005C  \n",
      "4             46.4  DE001C  \n",
      "5             49.4  DE003C  \n",
      "6             34.9  DE008C  \n",
      "7             41.3  DE010C  \n",
      "8             32.2  DK001C  \n",
      "9             24.4  EL001C  \n",
      "10            19.0  EL004C  \n",
      "11            27.6  ES001C  \n",
      "12            24.0  ES002C  \n",
      "13            28.5  ES006C  \n",
      "14            24.4  FR001C  \n",
      "15            20.4  FR004C  \n",
      "16            39.5  FR016C  \n",
      "17            34.9  IE001C  \n",
      "18             3.0  IT001C  \n",
      "19             3.7  IT003C  \n",
      "20            17.5  IT004C  \n",
      "21            37.7  LU001C  \n",
      "22            10.3  PT001C  \n",
      "23            13.2  PT003C  \n",
      "24            33.8  SE001C  \n",
      "25            36.7  UK004C  \n"
     ]
    }
   ],
   "source": [
    "# merge on country column\n",
    "merged = pd.merge(transport_clean, pollution_clean, on='country', how='right')\n",
    "\n",
    "# drop transport columns which year doesn't fit pollution data\n",
    "merged = merged.drop([\"transport_\"+col for col in transport_year_col_names if \"pollution_\"+col not in merged.columns and \"transport_\"+col not in [\"transport_2021\"]], axis=1)\n",
    "\n",
    "merged = merged.drop_duplicates(subset=['city'], ignore_index=True)\n",
    "\n",
    "# save to csv\n",
    "merged.to_csv(\"merged.csv\")\n",
    "\n",
    "# show result\n",
    "print(merged)\n"
   ]
  },
  {
   "attachments": {},
   "cell_type": "markdown",
   "metadata": {},
   "source": [
    "## 5. Correlation"
   ]
  },
  {
   "attachments": {},
   "cell_type": "markdown",
   "metadata": {},
   "source": [
    "#### Notes\n",
    "Transport values have been increasing through the years, but dropped back down after 2015. \n",
    "\n",
    "It's clear during 2004 and 2006, the cities with ~70% transport value aren't ones with the highest pollution.\n",
    "\n",
    "Things change during 2019, where it gets more random. Second highest pollution value happens to be one of the lowest transport values."
   ]
  },
  {
   "cell_type": "code",
   "execution_count": 327,
   "metadata": {},
   "outputs": [
    {
     "data": {
      "image/png": "[encoded data removed]",
      "text/plain": [
       "<Figure size 432x288 with 1 Axes>"
      ]
     },
     "metadata": {
      "needs_background": "light"
     },
     "output_type": "display_data"
    },
    {
     "data": {
      "image/png": "[encoded data removed]",
      "text/plain": [
       "<Figure size 432x288 with 1 Axes>"
      ]
     },
     "metadata": {
      "needs_background": "light"
     },
     "output_type": "display_data"
    },
    {
     "data": {
      "image/png": "[encoded data removed]",
      "text/plain": [
       "<Figure size 432x288 with 1 Axes>"
      ]
     },
     "metadata": {
      "needs_background": "light"
     },
     "output_type": "display_data"
    },
    {
     "data": {
      "image/png": "[encoded data removed]",
      "text/plain": [
       "<Figure size 432x288 with 1 Axes>"
      ]
     },
     "metadata": {
      "needs_background": "light"
     },
     "output_type": "display_data"
    },
    {
     "data": {
      "image/png": "[encoded data removed]",
      "text/plain": [
       "<Figure size 432x288 with 1 Axes>"
      ]
     },
     "metadata": {
      "needs_background": "light"
     },
     "output_type": "display_data"
    },
    {
     "data": {
      "image/png": "[encoded data removed]",
      "text/plain": [
       "<Figure size 432x288 with 1 Axes>"
      ]
     },
     "metadata": {
      "needs_background": "light"
     },
     "output_type": "display_data"
    }
   ],
   "source": [
    "# plot corresponding transport and pollution values through years\n",
    "for year in ['2004', '2006', '2009', '2012', '2015', '2019']:\n",
    "    plt.scatter(merged[f'transport_{year}'], merged[f'pollution_{year}'])\n",
    "    plt.xlabel(f'Transport {year}')\n",
    "    plt.ylabel(f'Pollution {year}')\n",
    "    plt.show()\n",
    "\n"
   ]
  },
  {
   "attachments": {},
   "cell_type": "markdown",
   "metadata": {},
   "source": [
    "## 6. Predictions"
   ]
  },
  {
   "attachments": {},
   "cell_type": "markdown",
   "metadata": {},
   "source": [
    "#### 6.1 Create features"
   ]
  },
  {
   "cell_type": "code",
   "execution_count": 328,
   "metadata": {},
   "outputs": [
    {
     "name": "stdout",
     "output_type": "stream",
     "text": [
      "    country    city  transport  pollution  year\n",
      "0        AT  AT001C      100.2       48.0  2004\n",
      "1        AT  AT001C       96.4       63.4  2006\n",
      "2        AT  AT001C       97.5       53.1  2009\n",
      "3        AT  AT001C       96.1       60.0  2012\n",
      "4        AT  AT001C      100.0       72.0  2015\n",
      "..      ...     ...        ...        ...   ...\n",
      "177      UK  UK004C      112.6       30.5  2009\n",
      "178      UK  UK004C      106.1       39.0  2012\n",
      "179      UK  UK004C      100.0       39.0  2015\n",
      "180      UK  UK004C      104.3       36.7  2019\n",
      "181      UK  UK004C        NaN        NaN  2021\n",
      "\n",
      "[182 rows x 5 columns]\n"
     ]
    }
   ],
   "source": [
    "# create new features dataframe for ML\n",
    "columns = [\"country\", \"city\", \"transport\", \"pollution\", \"year\"]\n",
    "features = pd.DataFrame(columns=columns)\n",
    "\n",
    "# create transport and pollution features based on the transport_YYYY and pollution_YYYY combined\n",
    "transports = pd.DataFrame()\n",
    "pollutions = pd.DataFrame()\n",
    "\n",
    "# extract transport and assign correspoding years\n",
    "for col in merged.columns:\n",
    "    if col.startswith('transport_'):\n",
    "        year = col.split('_')[1]\n",
    "        polcol = None\n",
    "        new_rows = merged[[col, 'country', 'city']].rename(columns={col: 'transport'})\n",
    "        new_rows['year'] = year\n",
    "        transports = pd.concat([transports, new_rows], ignore_index=True)\n",
    "\n",
    "# extract pollution and assign corresponding years\n",
    "for col in merged.columns:\n",
    "    if col.startswith('pollution_'):\n",
    "        year = col.split('_')[1]\n",
    "        polcol = None\n",
    "        new_rows = merged[[col, 'country', 'city']].rename(columns={col: 'pollution'})\n",
    "        new_rows['year'] = year\n",
    "        pollutions = pd.concat([pollutions, new_rows], ignore_index=True)\n",
    "\n",
    "# merge the transport and pollution into features dataframe\n",
    "features = pd.merge(transports, pollutions, on=['city', 'year', 'country'],how=\"left\")\n",
    "\n",
    "# sort by city and year for better view\n",
    "features = features.sort_values(['city', 'year'])\n",
    "features = features.reset_index(drop=True)\n",
    "\n",
    "# reorganize the column names\n",
    "features = features[['country', 'city', 'transport', 'pollution', 'year']]\n",
    "\n",
    "# save the features to csv\n",
    "features.to_csv(\"features.csv\")\n",
    "\n",
    "# print result\n",
    "print(features)\n"
   ]
  },
  {
   "attachments": {},
   "cell_type": "markdown",
   "metadata": {},
   "source": [
    "#### 6.2 Transform features"
   ]
  },
  {
   "cell_type": "code",
   "execution_count": 329,
   "metadata": {},
   "outputs": [
    {
     "name": "stdout",
     "output_type": "stream",
     "text": [
      "    country    city  transport  pollution  year  transport_prev  \\\n",
      "1        AT  AT001C   0.451471   0.876614     1        0.507353   \n",
      "2        AT  AT001C   0.467647   0.728838     2        0.451471   \n",
      "3        AT  AT001C   0.447059   0.827834     3        0.467647   \n",
      "4        AT  AT001C   0.504412   1.000000     4        0.447059   \n",
      "5        AT  AT001C   0.320588   0.971306     5        0.504412   \n",
      "..      ...     ...        ...        ...   ...             ...   \n",
      "177      UK  UK004C   0.689706   0.404591     2        0.658824   \n",
      "178      UK  UK004C   0.594118   0.526542     3        0.689706   \n",
      "179      UK  UK004C   0.504412   0.526542     4        0.594118   \n",
      "180      UK  UK004C   0.567647   0.493544     5        0.504412   \n",
      "181      UK  UK004C   0.570000        NaN     6        0.567647   \n",
      "\n",
      "     pollution_prev  \n",
      "1          0.655667  \n",
      "2          0.876614  \n",
      "3          0.728838  \n",
      "4          0.827834  \n",
      "5          1.000000  \n",
      "..              ...  \n",
      "177        0.529412  \n",
      "178        0.404591  \n",
      "179        0.526542  \n",
      "180        0.526542  \n",
      "181        0.493544  \n",
      "\n",
      "[156 rows x 7 columns]\n"
     ]
    }
   ],
   "source": [
    "\n",
    "# work on copy\n",
    "features_transformed = features.copy()\n",
    "\n",
    "# years saved here\n",
    "saved_years = pollution_year_col_names\n",
    "\n",
    "# encode the year\n",
    "year_encoder = LabelEncoder()\n",
    "features_transformed['year'] = year_encoder.fit_transform(features_transformed['year'])\n",
    "\n",
    "# encode the transport\n",
    "transport_encoder = MinMaxScaler()\n",
    "features_transformed[['transport']] = transport_encoder.fit_transform(features_transformed[['transport']])\n",
    "\n",
    "# encode the pollution\n",
    "pollution_encoder = MinMaxScaler()\n",
    "features_transformed[['pollution']] = pollution_encoder.fit_transform(features_transformed[['pollution']])\n",
    "\n",
    "# add previous values features\n",
    "features_transformed['transport_prev'] = features_transformed.groupby(['country', 'city'])['transport'].shift()\n",
    "features_transformed['pollution_prev'] = features_transformed.groupby(['country', 'city'])['pollution'].shift()\n",
    "\n",
    "# remove the year 0 because it has no previous\n",
    "features_transformed = features_transformed[features_transformed['year'] != 0]\n",
    "\n",
    "# fill the one NaN value with a constant because it was sad and lonely\n",
    "features_transformed['transport'].fillna(0.57, inplace=True)\n",
    "\n",
    "# save to csv\n",
    "features_transformed.to_csv(\"features_transformed.csv\")\n",
    "\n",
    "# show results\n",
    "print(features_transformed)\n",
    "\n",
    "# bring back\n",
    "#features['year'] = year_encoder.inverse_transform(features['year'])\n",
    "#print(features)\n",
    "\n"
   ]
  },
  {
   "attachments": {},
   "cell_type": "markdown",
   "metadata": {},
   "source": [
    "#### 6.3 Split"
   ]
  },
  {
   "cell_type": "code",
   "execution_count": 330,
   "metadata": {},
   "outputs": [],
   "source": [
    "# split the train and predict data based on whether the pollution value is NaN\n",
    "train_data = features_transformed[~features_transformed['pollution'].isna()]\n",
    "predict_data = features_transformed[features_transformed['pollution'].isna()]\n",
    "\n",
    "# data for model training\n",
    "train_X = train_data[['transport', 'year', 'transport_prev', 'pollution_prev']]\n",
    "train_Y = train_data['pollution']\n",
    "\n",
    "# data for making predictions\n",
    "predict_X = predict_data[['transport', 'year', 'transport_prev', 'pollution_prev']]\n",
    "predict_Y = predict_data['pollution']"
   ]
  },
  {
   "attachments": {},
   "cell_type": "markdown",
   "metadata": {},
   "source": [
    "#### 6.4 Training model"
   ]
  },
  {
   "cell_type": "code",
   "execution_count": 331,
   "metadata": {},
   "outputs": [
    {
     "data": {
      "text/plain": [
       "LinearRegression()"
      ]
     },
     "execution_count": 331,
     "metadata": {},
     "output_type": "execute_result"
    }
   ],
   "source": [
    "# fit the model\n",
    "model = LinearRegression()\n",
    "model.fit(train_X, train_Y)"
   ]
  },
  {
   "attachments": {},
   "cell_type": "markdown",
   "metadata": {},
   "source": [
    "#### 6.5 Making predictions"
   ]
  },
  {
   "cell_type": "code",
   "execution_count": 332,
   "metadata": {},
   "outputs": [
    {
     "name": "stdout",
     "output_type": "stream",
     "text": [
      "    country    city  transport  pollution  year  transport_prev  \\\n",
      "1        AT  AT001C      96.40  63.400000  2006           100.2   \n",
      "2        AT  AT001C      97.50  53.100000  2009            96.4   \n",
      "3        AT  AT001C      96.10  60.000000  2012            97.5   \n",
      "4        AT  AT001C     100.00  72.000000  2015            96.1   \n",
      "5        AT  AT001C      87.50  70.000000  2019           100.0   \n",
      "..      ...     ...        ...        ...   ...             ...   \n",
      "177      UK  UK004C     112.60  30.500000  2009           110.5   \n",
      "178      UK  UK004C     106.10  39.000000  2012           112.6   \n",
      "179      UK  UK004C     100.00  39.000000  2015           106.1   \n",
      "180      UK  UK004C     104.30  36.700000  2019           100.0   \n",
      "181      UK  UK004C     104.46  34.548501  2021           104.3   \n",
      "\n",
      "     pollution_prev  \n",
      "1              48.0  \n",
      "2              63.4  \n",
      "3              53.1  \n",
      "4              60.0  \n",
      "5              72.0  \n",
      "..              ...  \n",
      "177            39.2  \n",
      "178            30.5  \n",
      "179            39.0  \n",
      "180            39.0  \n",
      "181            36.7  \n",
      "\n",
      "[156 rows x 7 columns]\n"
     ]
    },
    {
     "name": "stderr",
     "output_type": "stream",
     "text": [
      "C:\\Users\\Filip\\AppData\\Local\\Temp/ipykernel_16908/3878718012.py:3: SettingWithCopyWarning: \n",
      "A value is trying to be set on a copy of a slice from a DataFrame.\n",
      "Try using .loc[row_indexer,col_indexer] = value instead\n",
      "\n",
      "See the caveats in the documentation: https://pandas.pydata.org/pandas-docs/stable/user_guide/indexing.html#returning-a-view-versus-a-copy\n",
      "  predict_data.loc[:, 'pollution'] = predictions\n"
     ]
    }
   ],
   "source": [
    "# make predictions\n",
    "predictions = model.predict(predict_X)\n",
    "\n",
    "# put answers back into the dataframe\n",
    "predict_data.loc[:, 'pollution'] = predictions\n",
    "features_transformed.loc[predict_data.index, 'pollution'] = predictions\n",
    "\n",
    "# save only answers\n",
    "predict_data.to_csv(\"predictions.csv\")\n",
    "\n",
    "# bring back the original encoding\n",
    "features_transformed['year'] = year_encoder.inverse_transform(features_transformed['year'])\n",
    "features_transformed[['pollution']] = pollution_encoder.inverse_transform(features_transformed[['pollution']])\n",
    "features_transformed[['pollution_prev']] = pollution_encoder.inverse_transform(features_transformed[['pollution_prev']])\n",
    "features_transformed[['transport']] = transport_encoder.inverse_transform(features_transformed[['transport']])\n",
    "features_transformed[['transport_prev']] = transport_encoder.inverse_transform(features_transformed[['transport_prev']])\n",
    "\n",
    "# save answers with the rest of the data\n",
    "features_transformed.to_csv(\"predictions_full.csv\")\n",
    "\n",
    "#print result\n",
    "print(features_transformed)"
   ]
  }
 ],
 "metadata": {
  "kernelspec": {
   "display_name": "Python 3",
   "language": "python",
   "name": "python3"
  },
  "language_info": {
   "codemirror_mode": {
    "name": "ipython",
    "version": 3
   },
   "file_extension": ".py",
   "mimetype": "text/x-python",
   "name": "python",
   "nbconvert_exporter": "python",
   "pygments_lexer": "ipython3",
   "version": "3.10.0"
  },
  "orig_nbformat": 4
 },
 "nbformat": 4,
 "nbformat_minor": 2
}
